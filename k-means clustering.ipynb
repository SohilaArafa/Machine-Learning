{
 "cells": [
  {
   "cell_type": "code",
   "execution_count": 1,
   "id": "08f7bec1",
   "metadata": {},
   "outputs": [],
   "source": [
    "import numpy as np \n",
    "import matplotlib.pyplot as plt\n",
    "%matplotlib inline\n",
    "import math\n",
    "from pandas import DataFrame"
   ]
  },
  {
   "cell_type": "code",
   "execution_count": 2,
   "id": "edcde64a",
   "metadata": {},
   "outputs": [],
   "source": [
    "pts = []\n",
    "with open(r\"C:\\Users\\Dima\\Desktop\\uni\\5th sem\\machine learning\\ass3\\Data.txt\") as file:\n",
    "    for readline in file:\n",
    "        line_strip = readline.strip() # removing \\n\n",
    "        point = line_strip.split() # removing \\t\n",
    "        pts.append(point)\n",
    "data = np.array(pts)       \n",
    "data = data.astype(float) #change from string to float"
   ]
  },
  {
   "cell_type": "code",
   "execution_count": 3,
   "id": "d3a515ad",
   "metadata": {},
   "outputs": [
    {
     "data": {
      "image/png": "[encoded data removed]",
      "text/plain": [
       "<Figure size 576x576 with 1 Axes>"
      ]
     },
     "metadata": {
      "needs_background": "light"
     },
     "output_type": "display_data"
    }
   ],
   "source": [
    "df = DataFrame(dict(x=data[:,0], y=data[:,1]))\n",
    "fig, ax = plt.subplots(figsize=(8,8))\n",
    "df.plot(ax=ax, kind='scatter', x='x', y='y')\n",
    "plt.xlabel('X_1')\n",
    "plt.ylabel('X_2')\n",
    "plt.show()"
   ]
  },
  {
   "cell_type": "code",
   "execution_count": 4,
   "id": "a7552c84",
   "metadata": {},
   "outputs": [],
   "source": [
    "c1=np.random.choice(len(data), size=100, replace=False)\n",
    "c1= c1.astype(int)"
   ]
  },
  {
   "cell_type": "code",
   "execution_count": 5,
   "id": "dc711474",
   "metadata": {},
   "outputs": [],
   "source": [
    "def getDistance(p1,p2) :  \n",
    "    return math.sqrt(((p2[0]-p1[0])**2)+((p2[1]-p1[1])**2))"
   ]
  },
  {
   "cell_type": "code",
   "execution_count": 6,
   "id": "6b70f1dd",
   "metadata": {},
   "outputs": [],
   "source": [
    "def MaxDistance(c1,data) :\n",
    "    Max = 0\n",
    "    MaxIndex = 0\n",
    "    for i in range(len(data)) :\n",
    "        if(getDistance(data[i],data[c1]) >= Max ):\n",
    "            MaxIndex = i\n",
    "            Max = getDistance(data[i],data[c1])\n",
    "    return MaxIndex"
   ]
  },
  {
   "cell_type": "code",
   "execution_count": 7,
   "id": "ecc4986c",
   "metadata": {},
   "outputs": [],
   "source": [
    "##return an array of 100 mean each index has a mean for a certain class\n",
    "def getCenters(c1,data) :\n",
    "    centers = np.zeros((1,3))\n",
    "    centers=centers.astype(int)\n",
    "    for i in range(len(c1)) :\n",
    "        if(i == 0):\n",
    "#             print(centers[0][0])    \n",
    "            centers[0][0] = c1[0]\n",
    "            centers[0][1] = MaxDistance(c1[0],data)\n",
    "            centers[0][2] = MaxDistance(centers[0][1],data)\n",
    "        else:\n",
    "            c2 = MaxDistance(c1[i],data)\n",
    "            c3 = MaxDistance(c2,data)\n",
    "            centers = np.append(centers,[[c1[i],c2,c3]],axis = 0)\n",
    "    return centers\n",
    "           \n",
    "    #print(centers)\n",
    "#getCenters(c1,data)"
   ]
  },
  {
   "cell_type": "code",
   "execution_count": 8,
   "id": "cc145331",
   "metadata": {},
   "outputs": [],
   "source": [
    "centers=getCenters(c1,data)"
   ]
  },
  {
   "cell_type": "code",
   "execution_count": 9,
   "id": "82b84fd2",
   "metadata": {},
   "outputs": [],
   "source": [
    "def mind(data,center,pt):\n",
    "    for i in range (len(center)):\n",
    "        mind = getDistance(center[0], pt)\n",
    "        cluster=0\n",
    "        \n",
    "        if(getDistance(center[1], pt)< mind) :\n",
    "            mind = getDistance(center[1],pt)\n",
    "            cluster = 1\n",
    "        elif(getDistance(center[2], pt)< mind):\n",
    "            mind = getDistance(center[2],pt)\n",
    "            cluster = 2\n",
    "        return cluster\n"
   ]
  },
  {
   "cell_type": "code",
   "execution_count": 10,
   "id": "5a48b83b",
   "metadata": {},
   "outputs": [],
   "source": [
    "def updateClusters(data,centers,length) :\n",
    "    cluster_0 = np.array([])\n",
    "    cluster_1 = np.array([])\n",
    "    cluster_2 = np.array([])\n",
    "    \n",
    "#     res = 0\n",
    "    for i in range(length):\n",
    "        res = mind(data,centers,data[i])\n",
    "        if(res == 0):\n",
    "            cluster_0 = np.append(cluster_0, [i])\n",
    "        elif(res == 1):\n",
    "            cluster_1 = np.append(cluster_1, [i])\n",
    "        else:\n",
    "            cluster_2 = np.append(cluster_2, [i])     \n",
    "    clusters= np.array([cluster_0,cluster_1,cluster_2],dtype=object)\n",
    "#     print(\"cluster0\",cluster_0)\n",
    "#     print(\"cluster1\",cluster_1)\n",
    "#     print(\"cluster2\",cluster_2)\n",
    "    return clusters\n",
    "#updateClusters(data,centers)  "
   ]
  },
  {
   "cell_type": "code",
   "execution_count": 15,
   "id": "3608c9ab",
   "metadata": {},
   "outputs": [],
   "source": [
    "def updateMean(data,centers,q):\n",
    "    \n",
    "    mean = np.array([data[centers[q][0]],data[centers[q][1]],data[centers[q][2]]])\n",
    "    for k in range(1000) :\n",
    "        \n",
    "        clusters = updateClusters(data,mean,len(data))\n",
    "        flag = False\n",
    "        for i in range(3):\n",
    "            sumX = 0\n",
    "            sumY = 0\n",
    "            if(len(clusters[i])==0):\n",
    "                continue\n",
    "            for j in range(len(clusters[i])):\n",
    "                sumX += data[ int(clusters[i][j])][0]\n",
    "                sumY += data[ int(clusters[i][j])][1]\n",
    "            average = np.array([sumX/len(clusters[i]) , sumY/len(clusters[i])] )\n",
    "            if(np.array_equal(average, mean[i])):\n",
    "                flag = True\n",
    "            else:\n",
    "                flag = False\n",
    "            mean[i] = average #update center-mean with average\n",
    "    \n",
    "        if(flag):\n",
    "            return mean\n",
    "#     print(k)    \n",
    "    return mean\n"
   ]
  },
  {
   "cell_type": "code",
   "execution_count": 16,
   "id": "41be4892",
   "metadata": {},
   "outputs": [],
   "source": [
    "def avgdist(mean,data,clusters):\n",
    "    sumd=0\n",
    "    for i in range (3):\n",
    "        for j in range (len(clusters[i])):\n",
    "            sumd+=getDistance(mean[i],data[int(clusters[i][j])])\n",
    "    avg=sumd/len(data)\n",
    "    return avg"
   ]
  },
  {
   "cell_type": "code",
   "execution_count": 22,
   "id": "ef392de9",
   "metadata": {},
   "outputs": [],
   "source": [
    "def bestmean(data,centers,size):\n",
    "    minmean=updateMean(data,centers,0)\n",
    "    clusters=updateClusters(data,minmean,len(data))\n",
    "    minavg= avgdist(minmean,data,clusters)\n",
    "    for i in range(1,size):\n",
    "        currentmean=updateMean(data,centers,i)\n",
    "        currentclusters=updateClusters(data,currentmean,len(data))\n",
    "        currentavg=avgdist(currentmean,data,currentclusters)\n",
    "        if(currentavg<minavg):\n",
    "            minavg=currentavg\n",
    "            minmean=currentmean\n",
    "    return minmean"
   ]
  },
  {
   "cell_type": "code",
   "execution_count": 23,
   "id": "380ec42b",
   "metadata": {},
   "outputs": [],
   "source": [
    "mean=bestmean(data,centers,len(c1))\n",
    "clusters1=updateClusters(data,mean,len(data))"
   ]
  },
  {
   "cell_type": "code",
   "execution_count": 24,
   "id": "2fbe6802",
   "metadata": {},
   "outputs": [],
   "source": [
    "c_1 = 0\n",
    "c_0 = 100\n",
    "c_2 = 200\n",
    "\n",
    "cluster0,cluster1,cluster2 = [] , [] , []\n",
    "\n",
    "while c_0 < 200 :\n",
    "    cluster0.append(data[c_0])\n",
    "    c_0 = c_0 +1 \n",
    "    \n",
    "while c_1 < 100 :\n",
    "    cluster1.append(data[c_1])\n",
    "    c_1 = c_1 +1  \n",
    "    \n",
    "while c_2 < 300 :\n",
    "    cluster2.append(data[c_2])\n",
    "    c_2 = c_2 +1"
   ]
  },
  {
   "cell_type": "code",
   "execution_count": 25,
   "id": "8d1bd645",
   "metadata": {},
   "outputs": [
    {
     "data": {
      "image/png": "[encoded data removed]",
      "text/plain": [
       "<Figure size 432x288 with 1 Axes>"
      ]
     },
     "metadata": {
      "needs_background": "light"
     },
     "output_type": "display_data"
    }
   ],
   "source": [
    "for i in range(len(cluster0)):\n",
    "    plt.scatter(x = cluster0[i][0], y = cluster0[i][1], color = 'red')\n",
    "    plt.scatter(x = cluster1[i][0], y = cluster1[i][1], color = 'blue')\n",
    "    plt.scatter(x = cluster2[i][0], y = cluster2[i][1], color = 'green')\n",
    "plt.xlabel('x')\n",
    "plt.ylabel('y')\n",
    "plt.show()   "
   ]
  },
  {
   "cell_type": "code",
   "execution_count": null,
   "id": "27dd9b45",
   "metadata": {},
   "outputs": [],
   "source": []
  },
  {
   "cell_type": "code",
   "execution_count": null,
   "id": "2c2e7091",
   "metadata": {},
   "outputs": [],
   "source": []
  },
  {
   "cell_type": "code",
   "execution_count": 26,
   "id": "47827978",
   "metadata": {},
   "outputs": [],
   "source": [
    "pts = []\n",
    "with open(r'C:\\Users\\Dima\\Desktop\\uni\\5th sem\\machine learning\\ass3\\Data2.txt') as file:\n",
    "    for readline in file:\n",
    "        line_strip = readline.strip() # removing \\n\n",
    "        point = line_strip.split() # removing \\t\n",
    "        pts.append(point)\n",
    "data2 = np.array(pts)       \n",
    "data2 = data2.astype(float) #change from string to float"
   ]
  },
  {
   "cell_type": "code",
   "execution_count": 86,
   "id": "4d08e67e",
   "metadata": {},
   "outputs": [
    {
     "data": {
      "image/png": "[encoded data removed]",
      "text/plain": [
       "<Figure size 576x576 with 1 Axes>"
      ]
     },
     "metadata": {
      "needs_background": "light"
     },
     "output_type": "display_data"
    }
   ],
   "source": [
    "df2 = DataFrame(dict(x=data2[:,0], y=data2[:,1]))\n",
    "fig, ax = plt.subplots(figsize=(8,8))\n",
    "df2.plot(ax=ax, kind='scatter', x='x', y='y')\n",
    "plt.xlabel('X_1')\n",
    "plt.ylabel('X_2')\n",
    "plt.show()"
   ]
  },
  {
   "cell_type": "code",
   "execution_count": 27,
   "id": "f8072809",
   "metadata": {},
   "outputs": [],
   "source": [
    "c2 = np.random.choice(len(data2), size = 30, replace = False)\n",
    "c2 = c2.astype(int)"
   ]
  },
  {
   "cell_type": "code",
   "execution_count": 29,
   "id": "4370af6e",
   "metadata": {},
   "outputs": [],
   "source": [
    "center_2 = getCenters(c2,data2)\n",
    "mean2 = bestmean(data2,center_2,30)\n",
    "cluster_2 = updateClusters(data2,mean2,len(data2))"
   ]
  },
  {
   "cell_type": "code",
   "execution_count": 30,
   "id": "dcfe45bb",
   "metadata": {},
   "outputs": [],
   "source": [
    "c_1 = 0\n",
    "c_0 = 10\n",
    "c_2 = 20\n",
    "\n",
    "cluster0,cluster1,cluster2 = [] , [] , []\n",
    "\n",
    "while c_0 < 20 :\n",
    "    cluster0.append(data2[c_0])\n",
    "    c_0 = c_0 +1 \n",
    "    \n",
    "while c_1 < 10 :\n",
    "    cluster1.append(data2[c_1])\n",
    "    c_1 = c_1 +1  \n",
    "    \n",
    "while c_2 < 30 :\n",
    "    cluster2.append(data2[c_2])\n",
    "    c_2 = c_2 +1"
   ]
  },
  {
   "cell_type": "code",
   "execution_count": 31,
   "id": "8cf05d9c",
   "metadata": {},
   "outputs": [
    {
     "data": {
      "image/png": "[encoded data removed]",
      "text/plain": [
       "<Figure size 432x288 with 1 Axes>"
      ]
     },
     "metadata": {
      "needs_background": "light"
     },
     "output_type": "display_data"
    }
   ],
   "source": [
    "for i in range(len(cluster0)):\n",
    "    plt.scatter(x = cluster0[i][0], y = cluster0[i][1], color = 'red')\n",
    "    plt.scatter(x = cluster1[i][0], y = cluster1[i][1], color = 'blue')\n",
    "    plt.scatter(x = cluster2[i][0], y = cluster2[i][1], color = 'green')\n",
    "plt.xlabel('x')\n",
    "plt.ylabel('y')\n",
    "plt.show()   "
   ]
  },
  {
   "cell_type": "code",
   "execution_count": 88,
   "id": "8a7cab4a",
   "metadata": {},
   "outputs": [],
   "source": []
  },
  {
   "cell_type": "code",
   "execution_count": null,
   "id": "aaabdbd3",
   "metadata": {},
   "outputs": [],
   "source": []
  },
  {
   "cell_type": "code",
   "execution_count": null,
   "id": "be7e9787",
   "metadata": {},
   "outputs": [],
   "source": []
  },
  {
   "cell_type": "code",
   "execution_count": null,
   "id": "f8eac8fd",
   "metadata": {},
   "outputs": [],
   "source": []
  },
  {
   "cell_type": "code",
   "execution_count": null,
   "id": "0e32b2e9",
   "metadata": {},
   "outputs": [],
   "source": []
  },
  {
   "cell_type": "code",
   "execution_count": null,
   "id": "879eaeba",
   "metadata": {},
   "outputs": [],
   "source": []
  }
 ],
 "metadata": {
  "kernelspec": {
   "display_name": "Python 3",
   "language": "python",
   "name": "python3"
  },
  "language_info": {
   "codemirror_mode": {
    "name": "ipython",
    "version": 3
   },
   "file_extension": ".py",
   "mimetype": "text/x-python",
   "name": "python",
   "nbconvert_exporter": "python",
   "pygments_lexer": "ipython3",
   "version": "3.8.8"
  }
 },
 "nbformat": 4,
 "nbformat_minor": 5
}
